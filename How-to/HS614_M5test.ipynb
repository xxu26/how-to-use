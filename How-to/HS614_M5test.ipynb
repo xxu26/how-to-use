{
 "metadata": {
  "name": "m5test.ipynb"
 },
 "nbformat": 3,
 "nbformat_minor": 0,
 "worksheets": [
  {
   "cells": [
    {
     "cell_type": "code",
     "collapsed": false,
     "input": [
      "import numpy as np\n",
      "import sklearn.preprocessing as pp"
     ],
     "language": "python",
     "metadata": {},
     "outputs": [],
     "prompt_number": 2
    },
    {
     "cell_type": "code",
     "collapsed": false,
     "input": [
      "a = np.arange(5)\n",
      "print \"a:\", a"
     ],
     "language": "python",
     "metadata": {},
     "outputs": [
      {
       "output_type": "stream",
       "stream": "stdout",
       "text": [
        "a: [0 1 2 3 4]\n"
       ]
      }
     ],
     "prompt_number": 3
    },
    {
     "cell_type": "code",
     "collapsed": false,
     "input": [
      "ss = pp.StandardScaler()\n",
      "print ss.fit(a)\n",
      "print ss.fit_transform(a)\n",
      "\n",
      "print ss.transform([[1, 2], [3, 4], [5, 6]])"
     ],
     "language": "python",
     "metadata": {},
     "outputs": [
      {
       "output_type": "stream",
       "stream": "stdout",
       "text": [
        "StandardScaler(copy=True, with_mean=True, with_std=True)\n",
        "[-1.41421356 -0.70710678  0.          0.70710678  1.41421356]\n",
        "[[-0.70710678  0.        ]\n",
        " [ 0.70710678  1.41421356]\n",
        " [ 2.12132034  2.82842712]]\n"
       ]
      },
      {
       "output_type": "stream",
       "stream": "stderr",
       "text": [
        "C:\\Users\\aabao\\AppData\\Local\\Enthought\\Canopy\\User\\lib\\site-packages\\sklearn\\utils\\validation.py:332: UserWarning: StandardScaler assumes floating point values as input, got int32\n",
        "  \"got %s\" % (estimator, X.dtype))\n"
       ]
      }
     ],
     "prompt_number": 4
    },
    {
     "cell_type": "code",
     "collapsed": false,
     "input": [
      "scaled = ss.transform(a)\n",
      "print scaled"
     ],
     "language": "python",
     "metadata": {},
     "outputs": [
      {
       "output_type": "stream",
       "stream": "stdout",
       "text": [
        "[-1.41421356 -0.70710678  0.          0.70710678  1.41421356]\n"
       ]
      }
     ],
     "prompt_number": 5
    },
    {
     "cell_type": "code",
     "collapsed": false,
     "input": [
      "np.mean(scaled)"
     ],
     "language": "python",
     "metadata": {},
     "outputs": [
      {
       "metadata": {},
       "output_type": "pyout",
       "prompt_number": 6,
       "text": [
        "0.0"
       ]
      }
     ],
     "prompt_number": 6
    },
    {
     "cell_type": "code",
     "collapsed": false,
     "input": [
      "np.std(scaled)"
     ],
     "language": "python",
     "metadata": {},
     "outputs": [
      {
       "metadata": {},
       "output_type": "pyout",
       "prompt_number": 7,
       "text": [
        "0.99999999999999989"
       ]
      }
     ],
     "prompt_number": 7
    },
    {
     "cell_type": "code",
     "collapsed": false,
     "input": [
      "a = np.arange(10).reshape(5,2)\n",
      "print a\n",
      "ss = pp.StandardScaler()\n",
      "#print \"test1:\", ss.mean_  # mean doesn't exist since hasn't put fit(a)\n",
      "print \"00:\", ss\n",
      "m = pp.StandardScaler().fit(a)\n",
      "print m\n",
      "print \"test2:\", m.mean_\n",
      "print ss.fit(a) # algorithm how to manipulate the data, ss after fit,train the data (fit=train)  \n",
      "scaled = ss.transform(a) # fit figure out, transform actually doing it\n",
      "print scaled"
     ],
     "language": "python",
     "metadata": {},
     "outputs": [
      {
       "output_type": "stream",
       "stream": "stdout",
       "text": [
        " [[0 1]\n",
        " [2 3]\n",
        " [4 5]\n",
        " [6 7]\n",
        " [8 9]]\n",
        "00: StandardScaler(copy=True, with_mean=True, with_std=True)\n",
        "StandardScaler(copy=True, with_mean=True, with_std=True)\n",
        "test2: [ 4.  5.]\n",
        "StandardScaler(copy=True, with_mean=True, with_std=True)\n",
        "[[-1.41421356 -1.41421356]\n",
        " [-0.70710678 -0.70710678]\n",
        " [ 0.          0.        ]\n",
        " [ 0.70710678  0.70710678]\n",
        " [ 1.41421356  1.41421356]]\n"
       ]
      }
     ],
     "prompt_number": 20
    },
    {
     "cell_type": "code",
     "collapsed": false,
     "input": [
      "b = np.array([[2, 4], [5, 6], [7, 2], [5, 6], [6, 7]])\n",
      "print b\n",
      "ss.transform(b)"
     ],
     "language": "python",
     "metadata": {},
     "outputs": [
      {
       "output_type": "stream",
       "stream": "stdout",
       "text": [
        "[[2 4]\n",
        " [5 6]\n",
        " [7 2]\n",
        " [5 6]\n",
        " [6 7]]\n"
       ]
      },
      {
       "metadata": {},
       "output_type": "pyout",
       "prompt_number": 46,
       "text": [
        "array([[ 0.        ,  1.41421356],\n",
        "       [ 2.12132034,  2.82842712],\n",
        "       [ 3.53553391,  0.        ],\n",
        "       [ 2.12132034,  2.82842712],\n",
        "       [ 2.82842712,  3.53553391]])"
       ]
      }
     ],
     "prompt_number": 46
    },
    {
     "cell_type": "code",
     "collapsed": false,
     "input": [
      "ss = pp.StandardScaler()\n",
      "print ss.fit([[1, 2], [3, 4], [5, 6]])\n",
      "print ss.fit_transform([[1, 2], [3, 4], [5, 6]])\n",
      "\n"
     ],
     "language": "python",
     "metadata": {},
     "outputs": [
      {
       "output_type": "stream",
       "stream": "stdout",
       "text": [
        "StandardScaler(copy=True, with_mean=True, with_std=True)\n",
        "[[-1.22474487 -1.22474487]\n",
        " [ 0.          0.        ]\n",
        " [ 1.22474487  1.22474487]]\n"
       ]
      }
     ],
     "prompt_number": 61
    },
    {
     "cell_type": "code",
     "collapsed": false,
     "input": [
      "from sklearn import datasets\n",
      "iris = datasets.load_iris()\n",
      "digits = datasets.load_digits()"
     ],
     "language": "python",
     "metadata": {},
     "outputs": [],
     "prompt_number": 1
    },
    {
     "cell_type": "code",
     "collapsed": false,
     "input": [
      "print digits.data"
     ],
     "language": "python",
     "metadata": {},
     "outputs": [
      {
       "output_type": "stream",
       "stream": "stdout",
       "text": [
        "[[  0.   0.   5. ...,   0.   0.   0.]\n",
        " [  0.   0.   0. ...,  10.   0.   0.]\n",
        " [  0.   0.   0. ...,  16.   9.   0.]\n",
        " ..., \n",
        " [  0.   0.   1. ...,   6.   0.   0.]\n",
        " [  0.   0.   2. ...,  12.   0.   0.]\n",
        " [  0.   0.  10. ...,  12.   1.   0.]]\n"
       ]
      }
     ],
     "prompt_number": 2
    },
    {
     "cell_type": "code",
     "collapsed": false,
     "input": [
      "digits.target"
     ],
     "language": "python",
     "metadata": {},
     "outputs": [
      {
       "metadata": {},
       "output_type": "pyout",
       "prompt_number": 3,
       "text": [
        "array([0, 1, 2, ..., 8, 9, 8])"
       ]
      }
     ],
     "prompt_number": 3
    },
    {
     "cell_type": "code",
     "collapsed": false,
     "input": [
      "digits.images[0]"
     ],
     "language": "python",
     "metadata": {},
     "outputs": [
      {
       "metadata": {},
       "output_type": "pyout",
       "prompt_number": 5,
       "text": [
        "array([[  0.,   0.,   5.,  13.,   9.,   1.,   0.,   0.],\n",
        "       [  0.,   0.,  13.,  15.,  10.,  15.,   5.,   0.],\n",
        "       [  0.,   3.,  15.,   2.,   0.,  11.,   8.,   0.],\n",
        "       [  0.,   4.,  12.,   0.,   0.,   8.,   8.,   0.],\n",
        "       [  0.,   5.,   8.,   0.,   0.,   9.,   8.,   0.],\n",
        "       [  0.,   4.,  11.,   0.,   1.,  12.,   7.,   0.],\n",
        "       [  0.,   2.,  14.,   5.,  10.,  12.,   0.,   0.],\n",
        "       [  0.,   0.,   6.,  13.,  10.,   0.,   0.,   0.]])"
       ]
      }
     ],
     "prompt_number": 5
    },
    {
     "cell_type": "code",
     "collapsed": false,
     "input": [
      "from sklearn import svm\n",
      "clf = svm.SVC(gamma=0.001, C=100.)"
     ],
     "language": "python",
     "metadata": {},
     "outputs": [],
     "prompt_number": 6
    },
    {
     "cell_type": "code",
     "collapsed": false,
     "input": [
      "clf.fit(digits.data[:-1], digits.target[:-1])"
     ],
     "language": "python",
     "metadata": {},
     "outputs": [
      {
       "metadata": {},
       "output_type": "pyout",
       "prompt_number": 7,
       "text": [
        "SVC(C=100.0, cache_size=200, class_weight=None, coef0=0.0, degree=3,\n",
        "  gamma=0.001, kernel='rbf', max_iter=-1, probability=False,\n",
        "  random_state=None, shrinking=True, tol=0.001, verbose=False)"
       ]
      }
     ],
     "prompt_number": 7
    },
    {
     "cell_type": "code",
     "collapsed": false,
     "input": [
      "clf.predict(digits.data[-1])"
     ],
     "language": "python",
     "metadata": {},
     "outputs": [
      {
       "metadata": {},
       "output_type": "pyout",
       "prompt_number": 8,
       "text": [
        "array([8])"
       ]
      }
     ],
     "prompt_number": 8
    },
    {
     "cell_type": "code",
     "collapsed": false,
     "input": [
      "clf = svm.SVC()\n",
      "iris = datasets.load_iris()\n",
      "X, y = iris.data, iris.target\n",
      "clf.fit(X, y)"
     ],
     "language": "python",
     "metadata": {},
     "outputs": [
      {
       "metadata": {},
       "output_type": "pyout",
       "prompt_number": 11,
       "text": [
        "SVC(C=1.0, cache_size=200, class_weight=None, coef0=0.0, degree=3, gamma=0.0,\n",
        "  kernel='rbf', max_iter=-1, probability=False, random_state=None,\n",
        "  shrinking=True, tol=0.001, verbose=False)"
       ]
      }
     ],
     "prompt_number": 11
    },
    {
     "cell_type": "code",
     "collapsed": false,
     "input": [
      "import pickle\n",
      "s = pickle.dumps(clf)\n",
      "clf2 = pickle.loads(s)\n",
      "clf2.predict(X[0])"
     ],
     "language": "python",
     "metadata": {},
     "outputs": [
      {
       "metadata": {},
       "output_type": "pyout",
       "prompt_number": 12,
       "text": [
        "array([0])"
       ]
      }
     ],
     "prompt_number": 12
    },
    {
     "cell_type": "code",
     "collapsed": false,
     "input": [
      "y[0]"
     ],
     "language": "python",
     "metadata": {},
     "outputs": [
      {
       "metadata": {},
       "output_type": "pyout",
       "prompt_number": 13,
       "text": [
        "0"
       ]
      }
     ],
     "prompt_number": 13
    },
    {
     "cell_type": "code",
     "collapsed": false,
     "input": [
      "a = np.array([[1, 1], [2, 3]])\n",
      "shape(a)"
     ],
     "language": "python",
     "metadata": {},
     "outputs": [
      {
       "metadata": {},
       "output_type": "pyout",
       "prompt_number": 15,
       "text": [
        "(2L, 2L)"
       ]
      }
     ],
     "prompt_number": 15
    },
    {
     "cell_type": "code",
     "collapsed": false,
     "input": [
      "a = np.array((1,2,3))\n",
      "shape(a)"
     ],
     "language": "python",
     "metadata": {},
     "outputs": [
      {
       "metadata": {},
       "output_type": "pyout",
       "prompt_number": 16,
       "text": [
        "(3L,)"
       ]
      }
     ],
     "prompt_number": 16
    },
    {
     "cell_type": "code",
     "collapsed": false,
     "input": [
      "np.arange('2005-02', '2005-03', dtype='datetime64[D]')"
     ],
     "language": "python",
     "metadata": {},
     "outputs": [
      {
       "metadata": {},
       "output_type": "pyout",
       "prompt_number": 1,
       "text": [
        "array(['2005-02-01', '2005-02-02', '2005-02-03', '2005-02-04',\n",
        "       '2005-02-05', '2005-02-06', '2005-02-07', '2005-02-08',\n",
        "       '2005-02-09', '2005-02-10', '2005-02-11', '2005-02-12',\n",
        "       '2005-02-13', '2005-02-14', '2005-02-15', '2005-02-16',\n",
        "       '2005-02-17', '2005-02-18', '2005-02-19', '2005-02-20',\n",
        "       '2005-02-21', '2005-02-22', '2005-02-23', '2005-02-24',\n",
        "       '2005-02-25', '2005-02-26', '2005-02-27', '2005-02-28'], dtype='datetime64[D]')"
       ]
      }
     ],
     "prompt_number": 1
    },
    {
     "cell_type": "code",
     "collapsed": false,
     "input": [
      "import math\n",
      "math.sqrt(16)"
     ],
     "language": "python",
     "metadata": {},
     "outputs": [
      {
       "metadata": {},
       "output_type": "pyout",
       "prompt_number": 2,
       "text": [
        "4.0"
       ]
      }
     ],
     "prompt_number": 2
    },
    {
     "cell_type": "code",
     "collapsed": false,
     "input": [
      "range(5, 10)"
     ],
     "language": "python",
     "metadata": {},
     "outputs": [
      {
       "metadata": {},
       "output_type": "pyout",
       "prompt_number": 3,
       "text": [
        "[5, 6, 7, 8, 9]"
       ]
      }
     ],
     "prompt_number": 3
    },
    {
     "cell_type": "code",
     "collapsed": false,
     "input": [
      "list(range(5, 10))"
     ],
     "language": "python",
     "metadata": {},
     "outputs": [
      {
       "metadata": {},
       "output_type": "pyout",
       "prompt_number": 4,
       "text": [
        "[5, 6, 7, 8, 9]"
       ]
      }
     ],
     "prompt_number": 4
    },
    {
     "cell_type": "code",
     "collapsed": false,
     "input": [
      "range(0, 10)\n"
     ],
     "language": "python",
     "metadata": {},
     "outputs": [
      {
       "metadata": {},
       "output_type": "pyout",
       "prompt_number": 7,
       "text": [
        "[0, 1, 2, 3, 4, 5, 6, 7, 8, 9]"
       ]
      }
     ],
     "prompt_number": 7
    },
    {
     "cell_type": "code",
     "collapsed": false,
     "input": [
      "list(range(0, 10))"
     ],
     "language": "python",
     "metadata": {},
     "outputs": [
      {
       "metadata": {},
       "output_type": "pyout",
       "prompt_number": 8,
       "text": [
        "[0, 1, 2, 3, 4, 5, 6, 7, 8, 9]"
       ]
      }
     ],
     "prompt_number": 8
    },
    {
     "cell_type": "code",
     "collapsed": false,
     "input": [
      "myName=\"David\"\n",
      "myName.center(2)\n"
     ],
     "language": "python",
     "metadata": {},
     "outputs": [
      {
       "metadata": {},
       "output_type": "pyout",
       "prompt_number": 14,
       "text": [
        "'David'"
       ]
      }
     ],
     "prompt_number": 14
    },
    {
     "cell_type": "code",
     "collapsed": false,
     "input": [],
     "language": "python",
     "metadata": {},
     "outputs": []
    }
   ],
   "metadata": {}
  }
 ]
}